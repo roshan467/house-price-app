{
 "cells": [
  {
   "cell_type": "code",
   "execution_count": 14,
   "id": "52cf00f5-c8ca-4b68-bd56-0e3f11b8674b",
   "metadata": {},
   "outputs": [
    {
     "name": "stdout",
     "output_type": "stream",
     "text": [
      "   longitude  latitude  housing_median_age  total_rooms  total_bedrooms  \\\n",
      "0    -122.23     37.88                41.0        880.0           129.0   \n",
      "1    -122.22     37.86                21.0       7099.0          1106.0   \n",
      "2    -122.24     37.85                52.0       1467.0           190.0   \n",
      "3    -122.25     37.85                52.0       1274.0           235.0   \n",
      "4    -122.25     37.85                52.0       1627.0           280.0   \n",
      "\n",
      "   population  households  median_income  median_house_value ocean_proximity  \n",
      "0       322.0       126.0         8.3252            452600.0        NEAR BAY  \n",
      "1      2401.0      1138.0         8.3014            358500.0        NEAR BAY  \n",
      "2       496.0       177.0         7.2574            352100.0        NEAR BAY  \n",
      "3       558.0       219.0         5.6431            341300.0        NEAR BAY  \n",
      "4       565.0       259.0         3.8462            342200.0        NEAR BAY  \n",
      "<class 'pandas.core.frame.DataFrame'>\n",
      "RangeIndex: 20640 entries, 0 to 20639\n",
      "Data columns (total 10 columns):\n",
      " #   Column              Non-Null Count  Dtype  \n",
      "---  ------              --------------  -----  \n",
      " 0   longitude           20640 non-null  float64\n",
      " 1   latitude            20640 non-null  float64\n",
      " 2   housing_median_age  20640 non-null  float64\n",
      " 3   total_rooms         20640 non-null  float64\n",
      " 4   total_bedrooms      20433 non-null  float64\n",
      " 5   population          20640 non-null  float64\n",
      " 6   households          20640 non-null  float64\n",
      " 7   median_income       20640 non-null  float64\n",
      " 8   median_house_value  20640 non-null  float64\n",
      " 9   ocean_proximity     20640 non-null  object \n",
      "dtypes: float64(9), object(1)\n",
      "memory usage: 1.6+ MB\n",
      "None\n",
      "          longitude      latitude  housing_median_age   total_rooms  \\\n",
      "count  20640.000000  20640.000000        20640.000000  20640.000000   \n",
      "mean    -119.569704     35.631861           28.639486   2635.763081   \n",
      "std        2.003532      2.135952           12.585558   2181.615252   \n",
      "min     -124.350000     32.540000            1.000000      2.000000   \n",
      "25%     -121.800000     33.930000           18.000000   1447.750000   \n",
      "50%     -118.490000     34.260000           29.000000   2127.000000   \n",
      "75%     -118.010000     37.710000           37.000000   3148.000000   \n",
      "max     -114.310000     41.950000           52.000000  39320.000000   \n",
      "\n",
      "       total_bedrooms    population    households  median_income  \\\n",
      "count    20433.000000  20640.000000  20640.000000   20640.000000   \n",
      "mean       537.870553   1425.476744    499.539680       3.870671   \n",
      "std        421.385070   1132.462122    382.329753       1.899822   \n",
      "min          1.000000      3.000000      1.000000       0.499900   \n",
      "25%        296.000000    787.000000    280.000000       2.563400   \n",
      "50%        435.000000   1166.000000    409.000000       3.534800   \n",
      "75%        647.000000   1725.000000    605.000000       4.743250   \n",
      "max       6445.000000  35682.000000   6082.000000      15.000100   \n",
      "\n",
      "       median_house_value  \n",
      "count        20640.000000  \n",
      "mean        206855.816909  \n",
      "std         115395.615874  \n",
      "min          14999.000000  \n",
      "25%         119600.000000  \n",
      "50%         179700.000000  \n",
      "75%         264725.000000  \n",
      "max         500001.000000  \n"
     ]
    }
   ],
   "source": [
    "import pandas as pd\n",
    "\n",
    "# Load dataset\n",
    "data = pd.read_csv(r\"C:\\Users\\Roshan\\Downloads\\housing.csv\")\n",
    "print(data.head())\n",
    "print(data.info())\n",
    "print(data.describe())"
   ]
  },
  {
   "cell_type": "code",
   "execution_count": 29,
   "id": "54117472-ee4b-40c7-be0e-88903210ce79",
   "metadata": {},
   "outputs": [
    {
     "name": "stdout",
     "output_type": "stream",
     "text": [
      "Sample row:\n",
      "        longitude  latitude  housing_median_age  total_rooms  total_bedrooms  \\\n",
      "20046    -119.01     36.06                25.0       1505.0           435.0   \n",
      "\n",
      "       population  households  median_income  median_house_value  \\\n",
      "20046      1392.0       359.0         1.6812             47700.0   \n",
      "\n",
      "       ocean_proximity_INLAND  ocean_proximity_ISLAND  \\\n",
      "20046                    True                   False   \n",
      "\n",
      "       ocean_proximity_NEAR BAY  ocean_proximity_NEAR OCEAN  \n",
      "20046                     False                       False  \n"
     ]
    }
   ],
   "source": [
    "# Pick a random row\n",
    "sample = data.sample(1, random_state=42)\n",
    "\n",
    "print(\"Sample row:\\n\", sample)"
   ]
  },
  {
   "cell_type": "code",
   "execution_count": 15,
   "id": "5d912f73-ffbd-4122-bbcb-9300af4d65ef",
   "metadata": {},
   "outputs": [
    {
     "data": {
      "text/plain": [
       "longitude               0\n",
       "latitude                0\n",
       "housing_median_age      0\n",
       "total_rooms             0\n",
       "total_bedrooms        207\n",
       "population              0\n",
       "households              0\n",
       "median_income           0\n",
       "median_house_value      0\n",
       "ocean_proximity         0\n",
       "dtype: int64"
      ]
     },
     "execution_count": 15,
     "metadata": {},
     "output_type": "execute_result"
    }
   ],
   "source": [
    "data.isnull().sum()"
   ]
  },
  {
   "cell_type": "code",
   "execution_count": 18,
   "id": "9f0caba1-c940-4660-9916-40f563a2a4f2",
   "metadata": {},
   "outputs": [],
   "source": [
    "# Fill missing numeric values with median\n",
    "data['total_bedrooms'] = data['total_bedrooms'].fillna(data['total_bedrooms'].median())"
   ]
  },
  {
   "cell_type": "code",
   "execution_count": 20,
   "id": "6c36e323-6377-4a3a-8797-0d52f72700e7",
   "metadata": {},
   "outputs": [],
   "source": [
    "data = pd.get_dummies(data, drop_first=True)"
   ]
  },
  {
   "cell_type": "code",
   "execution_count": 21,
   "id": "eb5be2b5-2483-4613-8c5b-1f9d284f6d04",
   "metadata": {},
   "outputs": [],
   "source": [
    "X = data.drop('median_house_value', axis=1)  # features\n",
    "y = data['median_house_value']               # target"
   ]
  },
  {
   "cell_type": "code",
   "execution_count": 27,
   "id": "a91e0181-1d23-4ceb-9260-c26d019258a8",
   "metadata": {},
   "outputs": [
    {
     "data": {
      "text/plain": [
       "longitude                     0\n",
       "latitude                      0\n",
       "housing_median_age            0\n",
       "total_rooms                   0\n",
       "total_bedrooms                0\n",
       "population                    0\n",
       "households                    0\n",
       "median_income                 0\n",
       "median_house_value            0\n",
       "ocean_proximity_INLAND        0\n",
       "ocean_proximity_ISLAND        0\n",
       "ocean_proximity_NEAR BAY      0\n",
       "ocean_proximity_NEAR OCEAN    0\n",
       "dtype: int64"
      ]
     },
     "execution_count": 27,
     "metadata": {},
     "output_type": "execute_result"
    }
   ],
   "source": [
    "data.isnull().sum()"
   ]
  },
  {
   "cell_type": "code",
   "execution_count": 28,
   "id": "91daa36a-fd98-4444-abdf-8ea6c8c88cb8",
   "metadata": {},
   "outputs": [],
   "source": [
    "from sklearn.model_selection import train_test_split\n",
    "\n",
    "X_train, X_test, y_train, y_test = train_test_split(X, y, test_size=0.2, random_state=42)"
   ]
  },
  {
   "cell_type": "code",
   "execution_count": 26,
   "id": "fe6eba2e-292e-469f-82eb-5e06b73bc381",
   "metadata": {},
   "outputs": [
    {
     "name": "stdout",
     "output_type": "stream",
     "text": [
      "MAE: 31639.373406007748\n",
      "RMSE: 49038.20933848149\n",
      "R2 Score: 0.8164888965922015\n"
     ]
    }
   ],
   "source": [
    "from sklearn.ensemble import RandomForestRegressor\n",
    "\n",
    "model = RandomForestRegressor(n_estimators=100, random_state=42)\n",
    "model.fit(X_train, y_train)\n",
    "\n",
    "# Predict and evaluate\n",
    "from sklearn.metrics import mean_absolute_error, mean_squared_error, r2_score\n",
    "import numpy as np\n",
    "\n",
    "mae = mean_absolute_error(y_test, y_pred)\n",
    "rmse = np.sqrt(mean_squared_error(y_test, y_pred))\n",
    "r2 = r2_score(y_test, y_pred)\n",
    "\n",
    "print(\"MAE:\", mae)\n",
    "print(\"RMSE:\", rmse)\n",
    "print(\"R2 Score:\", r2)"
   ]
  },
  {
   "cell_type": "code",
   "execution_count": 24,
   "id": "49e40f49-da71-42e6-9073-a82857c86ede",
   "metadata": {},
   "outputs": [
    {
     "data": {
      "text/plain": [
       "['house_price_model.pkl']"
      ]
     },
     "execution_count": 24,
     "metadata": {},
     "output_type": "execute_result"
    }
   ],
   "source": [
    "import joblib\n",
    "joblib.dump(model, \"house_price_model.pkl\")"
   ]
  },
  {
   "cell_type": "code",
   "execution_count": null,
   "id": "9602901b-e319-4e98-9911-f12d0d31b67e",
   "metadata": {},
   "outputs": [],
   "source": [
    "# Example input (random values for testing)\n",
    "test_input = np.array([[-122.23, 37.88, 41.0, 880.0, 129.0, 322.0, 126.0, 8.3252]])"
   ]
  },
  {
   "cell_type": "code",
   "execution_count": null,
   "id": "60140a5f-cfe5-488f-b098-bd3275035afe",
   "metadata": {},
   "outputs": [],
   "source": [
    "prediction = model.predict(test_input)\n",
    "print(\"Predicted House Price:\", prediction[0])"
   ]
  },
  {
   "cell_type": "code",
   "execution_count": 31,
   "id": "0d43bf4e-1ea8-48ee-96b2-cbc3f3780b17",
   "metadata": {},
   "outputs": [
    {
     "name": "stdout",
     "output_type": "stream",
     "text": [
      " Predicted Price: 51521.0\n",
      " Original Price: 47700.0\n"
     ]
    }
   ],
   "source": [
    "import pandas as pd\n",
    "\n",
    "# Your sample row\n",
    "sample_data = {\n",
    "    \"longitude\": [-119.01],\n",
    "    \"latitude\": [36.06],\n",
    "    \"housing_median_age\": [25.0],\n",
    "    \"total_rooms\": [1505.0],\n",
    "    \"total_bedrooms\": [435.0],\n",
    "    \"population\": [1392.0],\n",
    "    \"households\": [359.0],\n",
    "    \"median_income\": [1.6812],\n",
    "    # one-hot encoded categorical features\n",
    "    \"ocean_proximity_INLAND\": [True],\n",
    "    \"ocean_proximity_ISLAND\": [False],\n",
    "    \"ocean_proximity_NEAR BAY\": [False],\n",
    "    \"ocean_proximity_NEAR OCEAN\": [False]\n",
    "}\n",
    "\n",
    "# Convert into DataFrame\n",
    "X_test = pd.DataFrame(sample_data)\n",
    "\n",
    "# Predict\n",
    "prediction = model.predict(X_test)\n",
    "\n",
    "# Compare with original\n",
    "print(\" Predicted Price:\", prediction[0])\n",
    "print(\" Original Price: 47700.0\")"
   ]
  },
  {
   "cell_type": "code",
   "execution_count": 33,
   "id": "c95a8adc-2aa2-44d3-939f-fad74d8dcfd4",
   "metadata": {},
   "outputs": [],
   "source": [
    "# Extract features (drop target column)\n",
    "X_sample = sample.drop(\"median_house_value\", axis=1)\n",
    "\n",
    "# Convert to numpy for prediction\n",
    "test_input = X_sample.values"
   ]
  },
  {
   "cell_type": "code",
   "execution_count": 34,
   "id": "80bbaea4-14f7-45b0-99ff-5fcb0cefb844",
   "metadata": {},
   "outputs": [
    {
     "name": "stdout",
     "output_type": "stream",
     "text": [
      "🔮 Predicted House Price: 51521.0\n",
      "🏠 Original (Actual) House Price: 47700.0\n"
     ]
    },
    {
     "name": "stderr",
     "output_type": "stream",
     "text": [
      "C:\\Users\\Roshan\\anaconda3\\Lib\\site-packages\\sklearn\\utils\\validation.py:2749: UserWarning: X does not have valid feature names, but RandomForestRegressor was fitted with feature names\n",
      "  warnings.warn(\n"
     ]
    }
   ],
   "source": [
    "# Predict using trained model\n",
    "predicted_value = model.predict(test_input)\n",
    "\n",
    "print(\"🔮 Predicted House Price:\", predicted_value[0])\n",
    "print(\"🏠 Original (Actual) House Price:\", sample[\"median_house_value\"].values[0])"
   ]
  },
  {
   "cell_type": "code",
   "execution_count": null,
   "id": "7b4aa90a-f64c-400b-abf3-76e57d493375",
   "metadata": {},
   "outputs": [],
   "source": []
  }
 ],
 "metadata": {
  "kernelspec": {
   "display_name": "Python [conda env:base] *",
   "language": "python",
   "name": "conda-base-py"
  },
  "language_info": {
   "codemirror_mode": {
    "name": "ipython",
    "version": 3
   },
   "file_extension": ".py",
   "mimetype": "text/x-python",
   "name": "python",
   "nbconvert_exporter": "python",
   "pygments_lexer": "ipython3",
   "version": "3.12.3"
  }
 },
 "nbformat": 4,
 "nbformat_minor": 5
}
